{
 "cells": [
  {
   "cell_type": "code",
   "execution_count": 1,
   "metadata": {},
   "outputs": [],
   "source": [
    "import os\n",
    "import time\n",
    "from itertools import product\n"
   ]
  },
  {
   "cell_type": "code",
   "execution_count": 2,
   "metadata": {},
   "outputs": [],
   "source": [
    "digitos_senha = 5\n",
    "characters_small = ['0','1','2','3','4','5','6','7','8','9','a','b','c','d','e','f','g','h','i','j','k','l','m','n','o','p','q','r','s','t','u','v','w','x','y','z']\n",
    "characters_big = ['0','1','2','3','4','5','6','7','8','9','A','B','C','D','E','F','G','H','I','J','K','L','M','N','O','P','Q','R','S','T','U','V','W','X','Y','Z']\n",
    "characters_all = ['0','1','2','3','4','5','6','7','8','9','a','b','c','d','e','f','g','h','i','j','k','l','m','n','o','p','q','r','s','t','u','v','w','x','y','z',\n",
    "                   'A','B','C','D','E','F','G','H','I','J','K','L','M','N','O','P','Q','R','S','T','U','V','W','X','Y','Z']"
   ]
  },
  {
   "cell_type": "code",
   "execution_count": 3,
   "metadata": {},
   "outputs": [],
   "source": [
    "def create_file(name):\n",
    "    ts = time.time()\n",
    "    file_name = \"senhas_\" + str(digitos_senha) + \"_digitos_\" + name + str(ts) + \".txt\"\n",
    "\n",
    "    if not os.path.exists(file_name):\n",
    "        with open(file_name, 'w') as file:\n",
    "            file.write(\"\")  # Cria o arquivo vazio\n",
    "        print(f\"O arquivo '{file_name}' foi criado.\")\n",
    "    else:\n",
    "        print(f\"O arquivo '{file_name}' já existe.\")\n",
    "\n",
    "    return file_name"
   ]
  },
  {
   "cell_type": "code",
   "execution_count": 4,
   "metadata": {},
   "outputs": [],
   "source": [
    "def get_max_number(digitos_senha):\n",
    "    # Cria um número máximo baseado na quantidade de dígitos da senha\n",
    "    numero_maximo = \"\"\n",
    "    for i in range(digitos_senha):\n",
    "        numero_maximo += \"9\"\n",
    "    # Converte a string para inteiro\n",
    "    numero_maximo = int(numero_maximo)\n",
    "    print(numero_maximo)\n",
    "    return numero_maximo"
   ]
  },
  {
   "cell_type": "code",
   "execution_count": 5,
   "metadata": {},
   "outputs": [],
   "source": [
    "def generate_passwords_numbers(digitos_senha):\n",
    "\n",
    "    file_name = create_file(\"numericas\")\n",
    "    numero_maximo = get_max_number(digitos_senha)\n",
    "\n",
    "    # Gera senhas de 0 até o número máximo\n",
    "    for i in range(numero_maximo + 1):\n",
    "        # Converte o número para string e preenche com zeros à esquerda\n",
    "        senha = str(i).zfill(digitos_senha)\n",
    "        with open(file_name, 'a') as file:\n",
    "            file.write(senha + \"\\n\")  # Adiciona a senha ao arquivo\n",
    "        #print(senha)  # Imprime a senha gerada\n",
    "    file.close()"
   ]
  },
  {
   "cell_type": "code",
   "execution_count": 6,
   "metadata": {},
   "outputs": [],
   "source": [
    "def generate_all_combinations(characters, length, file_name):\n",
    "    combinations = [''.join(p) for p in product(characters, repeat=length)]\n",
    "\n",
    "    file_name = create_file(file_name)\n",
    "    with open(file_name, 'w') as file:\n",
    "        for line in combinations:\n",
    "            file.write(f\"{line}\\n\")\n"
   ]
  },
  {
   "cell_type": "code",
   "execution_count": 7,
   "metadata": {},
   "outputs": [],
   "source": [
    "def generate_all_combinations_otim(characters, length, file_name):\n",
    "    file_name = create_file(file_name)\n",
    "    with open(file_name, 'a') as file:\n",
    "        for p in product(characters, repeat=length):\n",
    "            password = ''.join(p)\n",
    "            file.write(password + \"\\n\")\n",
    "    file.close()\n",
    "\n"
   ]
  },
  {
   "cell_type": "code",
   "execution_count": 8,
   "metadata": {},
   "outputs": [
    {
     "name": "stdout",
     "output_type": "stream",
     "text": [
      "O arquivo 'senhas_5_digitos_numericas1744158349.706614.txt' foi criado.\n",
      "99999\n"
     ]
    }
   ],
   "source": [
    "generate_passwords_numbers(digitos_senha)"
   ]
  },
  {
   "cell_type": "code",
   "execution_count": 9,
   "metadata": {},
   "outputs": [
    {
     "name": "stdout",
     "output_type": "stream",
     "text": [
      "O arquivo 'senhas_5_digitos_numericas_e_minusculas1744158361.7672942.txt' foi criado.\n"
     ]
    }
   ],
   "source": [
    "generate_all_combinations_otim(characters_small, digitos_senha, \"numericas_e_minusculas\")"
   ]
  },
  {
   "cell_type": "code",
   "execution_count": 10,
   "metadata": {},
   "outputs": [
    {
     "name": "stdout",
     "output_type": "stream",
     "text": [
      "O arquivo 'senhas_5_digitos_numericas_e_maiusculas1744158384.2150974.txt' foi criado.\n"
     ]
    }
   ],
   "source": [
    "generate_all_combinations_otim(characters_big, digitos_senha, \"numericas_e_maiusculas\")"
   ]
  },
  {
   "cell_type": "code",
   "execution_count": 11,
   "metadata": {},
   "outputs": [
    {
     "name": "stdout",
     "output_type": "stream",
     "text": [
      "O arquivo 'senhas_5_digitos_numericas_e_minusculas_e_maiusculas1744158411.284231.txt' foi criado.\n"
     ]
    }
   ],
   "source": [
    "generate_all_combinations_otim(characters_all, digitos_senha, \"numericas_e_minusculas_e_maiusculas\")"
   ]
  },
  {
   "cell_type": "code",
   "execution_count": null,
   "metadata": {},
   "outputs": [],
   "source": []
  }
 ],
 "metadata": {
  "kernelspec": {
   "display_name": ".venv",
   "language": "python",
   "name": "python3"
  },
  "language_info": {
   "codemirror_mode": {
    "name": "ipython",
    "version": 3
   },
   "file_extension": ".py",
   "mimetype": "text/x-python",
   "name": "python",
   "nbconvert_exporter": "python",
   "pygments_lexer": "ipython3",
   "version": "3.13.2"
  }
 },
 "nbformat": 4,
 "nbformat_minor": 2
}
